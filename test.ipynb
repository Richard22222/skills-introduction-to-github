{
 "cells": [
  {
   "metadata": {
    "ExecuteTime": {
     "end_time": "2025-05-27T13:56:36.689953Z",
     "start_time": "2025-05-27T13:56:36.142541Z"
    }
   },
   "cell_type": "code",
   "source": [
    "import torch.nn as nn\n",
    "import torch\n",
    "import numpy as np\n",
    "import torch.optim as optim\n",
    "from torch.utils.data import Dataset, TensorDataset, DataLoader\n",
    "from torch.utils.data.dataset import random_split\n",
    "from torch.utils.tensorboard import SummaryWriter\n",
    "import matplotlib.pyplot as plt"
   ],
   "id": "3029743dac79f522",
   "outputs": [],
   "execution_count": 2
  },
  {
   "metadata": {
    "ExecuteTime": {
     "end_time": "2025-05-27T13:56:36.729083Z",
     "start_time": "2025-05-27T13:56:36.699854Z"
    }
   },
   "cell_type": "code",
   "source": "device = 'mps' if torch.backends.mps.is_available() else 'cpu'",
   "id": "ccc17ff64979610",
   "outputs": [],
   "execution_count": 3
  },
  {
   "metadata": {
    "ExecuteTime": {
     "end_time": "2025-05-27T13:56:36.742101Z",
     "start_time": "2025-05-27T13:56:36.740475Z"
    }
   },
   "cell_type": "code",
   "source": [
    "lr = 0.01\n",
    "torch.manual_seed(42)\n",
    "model = nn.Sequential(nn.Linear(1, 1)).to(device)\n",
    "optimizer = optim.SGD(model.parameters(), lr=lr)\n",
    "loss_fn = nn.MSELoss(reduction='mean')\n",
    "n_epochs = 1000\n",
    "for epoch in range(n_epochs):\n",
    "    model.train()\n",
    "    yhat = "
   ],
   "id": "8ba88797eb6c393",
   "outputs": [],
   "execution_count": null
  }
 ],
 "metadata": {},
 "nbformat": 4,
 "nbformat_minor": 5
}
